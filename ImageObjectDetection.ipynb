{
 "cells": [
  {
   "cell_type": "markdown",
   "metadata": {},
   "source": [
    "# Image Object Detection on image using YOLOv3\n",
    "src : https://towardsdatascience.com/yolo-v3-object-detection-53fb7d3bfe6b"
   ]
  },
  {
   "cell_type": "code",
   "execution_count": 1,
   "metadata": {},
   "outputs": [
    {
     "name": "stderr",
     "output_type": "stream",
     "text": [
      "Using TensorFlow backend.\n"
     ]
    }
   ],
   "source": [
    "%matplotlib inline\n",
    "import warnings; warnings.simplefilter('ignore')\n",
    "\n",
    "### Standard Library\n",
    "import cv2\n",
    "import numpy as np\n",
    "import os\n",
    "import matplotlib.pyplot as plt\n",
    "\n",
    "### Yolov3 Library\n",
    "from utils.utils import get_yolo_boxes, makedirs\n",
    "from utils.utils import preprocess_input,decode_netout,correct_yolo_boxes,do_nms\n",
    "from utils.bbox import draw_boxes\n",
    "\n",
    "### Keras Library\n",
    "from keras.models import load_model"
   ]
  },
  {
   "cell_type": "code",
   "execution_count": null,
   "metadata": {},
   "outputs": [],
   "source": [
    "###############################\n",
    "#   Set some parameter\n",
    "###############################       \n",
    "net_h, net_w = 416, 416 # a multiple of 32, the smaller the faster\n",
    "\n",
    "obj_thresh, nms_thresh = 0.5, 0.45\n",
    "\n",
    "anchor = [10,13,  16,30,  33,23,  30,61,  62,45,  59,119,  116,90,  156,198,  373,326]\n",
    "\n",
    "labels = [\"person\",\"bicycle\",\"car\",\"motorbike\",\"aeroplane\",\"bus\",\"train\",\"truck\",\"boat\",\"traffic light\",\"fire hydrant\",\"stop sign\",\"parking meter\",\n",
    "          \"bench\",\"bird\",\"cat\",\"dog\",\"horse\",\"sheep\",\"cow\",\"elephant\",\"bear\",\"zebra\",\"giraffe\",\"backpack\",\"umbrella\",\"handbag\",\"tie\",\"suitcase\",\"frisbee\",\n",
    "          \"skis\",\"snowboard\",\"sports ball\",\"kite\",\"baseball bat\",\"baseball glove\",\"skateboard\",\"surfboard\",\"tennis racket\",\"bottle\",\"wine glass\",\"cup\",\"fork\",\n",
    "          \"knife\",\"spoon\",\"bowl\",\"banana\",\"apple\",\"sandwich\",\"orange\",\"broccoli\",\"carrot\",\"hot dog\",\"pizza\",\"donut\",\"cake\",\"chair\",\"sofa\",\"pottedplant\",\"bed\",\n",
    "          \"diningtable\",\"toilet\",\"tvmonitor\",\"laptop\",\"mouse\",\"remote\",\"keyboard\",\"cell phone\",\"microwave\",\"oven\",\"toaster\",\"sink\",\"refrigerator\",\"book\",\"clock\",\n",
    "          \"vase\",\"scissors\",\"teddy bear\",\"hair drier\",\"toothbrush\"]\n",
    "\n",
    "# Load model\n",
    "infer2_model = load_model(\"yolov3.h5\")\n",
    "\n",
    "##create output folder\n",
    "output_path  = 'output/'\n",
    "makedirs(output_path)"
   ]
  },
  {
   "cell_type": "code",
   "execution_count": null,
   "metadata": {},
   "outputs": [],
   "source": [
    "input_path   = \"image/tan.jpg\"\n",
    "save_image = True\n",
    "image_paths = []\n",
    "\n",
    "if os.path.isdir(input_path): \n",
    "    for inp_file in os.listdir(input_path):\n",
    "        image_paths += [input_path + inp_file]\n",
    "else:\n",
    "    image_paths += [input_path]\n",
    "\n",
    "image_paths = [inp_file for inp_file in image_paths if (inp_file[-4:] in ['.jpg', '.png', 'JPEG'])]\n",
    "\n",
    "# the main loop\n",
    "for image_path in image_paths:\n",
    "    image = cv2.imread(image_path)\n",
    "    # predict the bounding boxes\n",
    "    boxes = get_yolo_boxes(infer2_model, [image], net_h, net_w, anchor, obj_thresh, nms_thresh)[0]\n",
    "\n",
    "    # draw bounding boxes on the image using labels\n",
    "    draw_boxes(image, boxes, labels , obj_thresh) \n",
    "\n",
    "    if save_image:\n",
    "        # write the image with bounding boxes to file\n",
    "        cv2.imwrite(output_path + image_path.split('/')[-1], np.uint8(image))    \n",
    "        print(\"Prediction image was save at \\\"output\\\"\")\n",
    "    \n",
    "    plt.figure(num=None, figsize=(12.00, 6.75), dpi=120)\n",
    "    plt.axis(\"off\")\n",
    "    plt.imshow(cv2.cvtColor(image, cv2.COLOR_BGR2RGB))\n",
    "    plt.show()"
   ]
  },
  {
   "cell_type": "code",
   "execution_count": null,
   "metadata": {},
   "outputs": [],
   "source": []
  }
 ],
 "metadata": {
  "kernelspec": {
   "display_name": "Python 3",
   "language": "python",
   "name": "python3"
  },
  "language_info": {
   "codemirror_mode": {
    "name": "ipython",
    "version": 3
   },
   "file_extension": ".py",
   "mimetype": "text/x-python",
   "name": "python",
   "nbconvert_exporter": "python",
   "pygments_lexer": "ipython3",
   "version": "3.5.3"
  }
 },
 "nbformat": 4,
 "nbformat_minor": 2
}
