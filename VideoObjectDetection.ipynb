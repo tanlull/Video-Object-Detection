{
 "cells": [
  {
   "cell_type": "markdown",
   "metadata": {},
   "source": [
    "# Video Object Detection using YOLOv3\n",
    "src : https://towardsdatascience.com/yolo-v3-object-detection-53fb7d3bfe6b"
   ]
  },
  {
   "cell_type": "code",
   "execution_count": 6,
   "metadata": {},
   "outputs": [],
   "source": [
    "%matplotlib inline\n",
    "import warnings; warnings.simplefilter('ignore')\n",
    "\n",
    "### Standard Library\n",
    "import cv2\n",
    "from IPython.display import clear_output\n",
    "import time\n",
    "import PIL.Image\n",
    "from io import BytesIO\n",
    "import IPython.display\n",
    "import numpy as np\n",
    "import os\n",
    "from tqdm import tqdm\n",
    "import matplotlib.pyplot as plt\n",
    "\n",
    "### Yolov3 Library\n",
    "from utils.utils import get_yolo_boxes, makedirs\n",
    "from utils.utils import preprocess_input,decode_netout,correct_yolo_boxes,do_nms\n",
    "from utils.bbox import draw_boxes\n",
    "\n",
    "### Keras Library\n",
    "import keras\n",
    "from keras.models import load_model\n",
    "import keras.backend as K\n",
    "\n",
    "### TensorRT and Tensorflow Library\n",
    "from tensorflow.python.platform import gfile\n",
    "from tensorflow.core.protobuf import config_pb2 as cpb2\n",
    "from tensorflow.python.framework import ops as ops\n",
    "from tensorflow.python.ops import array_ops as aops\n",
    "from tensorflow.python.framework import importer as importer\n",
    "from tensorflow.python.client import session as csess\n",
    "\n",
    "import tensorflow as tf\n",
    "tf.logging.set_verbosity(tf.logging.INFO)\n",
    "\n",
    "from keras.backend.tensorflow_backend import set_session\n",
    "config = tf.ConfigProto()\n",
    "config.gpu_options.per_process_gpu_memory_fraction = 0.5\n",
    "set_session(tf.Session(config=config))\n",
    "\n",
    "# Set number of GPUs\n",
    "os.environ['CUDA_VISIBLE_DEVICES'] = \"0\""
   ]
  },
  {
   "cell_type": "code",
   "execution_count": 7,
   "metadata": {},
   "outputs": [],
   "source": [
    "###############################\n",
    "#   Set some parameter\n",
    "###############################       \n",
    "net_h, net_w = 416, 416 # a multiple of 32, the smaller the faster\n",
    "\n",
    "obj_thresh, nms_thresh = 0.5, 0.45\n",
    "\n",
    "anchor = [10,13,  16,30,  33,23,  30,61,  62,45,  59,119,  116,90,  156,198,  373,326]\n",
    "\n",
    "labels = [\"person\",\"bicycle\",\"car\",\"motorbike\",\"aeroplane\",\"bus\",\"train\",\"truck\",\"boat\",\"traffic light\",\"fire hydrant\",\"stop sign\",\"parking meter\",\n",
    "          \"bench\",\"bird\",\"cat\",\"dog\",\"horse\",\"sheep\",\"cow\",\"elephant\",\"bear\",\"zebra\",\"giraffe\",\"backpack\",\"umbrella\",\"handbag\",\"tie\",\"suitcase\",\"frisbee\",\n",
    "          \"skis\",\"snowboard\",\"sports ball\",\"kite\",\"baseball bat\",\"baseball glove\",\"skateboard\",\"surfboard\",\"tennis racket\",\"bottle\",\"wine glass\",\"cup\",\"fork\",\n",
    "          \"knife\",\"spoon\",\"bowl\",\"banana\",\"apple\",\"sandwich\",\"orange\",\"broccoli\",\"carrot\",\"hot dog\",\"pizza\",\"donut\",\"cake\",\"chair\",\"sofa\",\"pottedplant\",\"bed\",\n",
    "          \"diningtable\",\"toilet\",\"tvmonitor\",\"laptop\",\"mouse\",\"remote\",\"keyboard\",\"cell phone\",\"microwave\",\"oven\",\"toaster\",\"sink\",\"refrigerator\",\"book\",\"clock\",\n",
    "          \"vase\",\"scissors\",\"teddy bear\",\"hair drier\",\"toothbrush\"]\n",
    "\n",
    "# Load model\n",
    "infer2_model = load_model(\"yolov3.h5\")\n",
    "\n",
    "##create output folder\n",
    "output_path  = 'output/'\n",
    "makedirs(output_path)"
   ]
  },
  {
   "cell_type": "code",
   "execution_count": 8,
   "metadata": {},
   "outputs": [],
   "source": [
    "#Use 'jpeg' instead of 'png' (~5 times faster)\n",
    "\n",
    "def showarray(a, fmt='jpeg'):\n",
    "    f = BytesIO()\n",
    "    PIL.Image.fromarray(a).save(f, fmt)\n",
    "    IPython.display.display(IPython.display.Image(data=f.getvalue()))\n",
    "    \n",
    "def get_frame(cam):\n",
    "    # Capture frame-by-frame\n",
    "    ret, frame = cam.read()\n",
    "    #flip image for natural viewing\n",
    "    frame = cv2.flip(frame, 1)\n",
    "    return frame"
   ]
  },
  {
   "cell_type": "code",
   "execution_count": null,
   "metadata": {},
   "outputs": [
    {
     "data": {
      "image/jpeg": "[encoded data removed]",
      "text/plain": [
       "<IPython.core.display.Image object>"
      ]
     },
     "metadata": {},
     "output_type": "display_data"
    },
    {
     "name": "stderr",
     "output_type": "stream",
     "text": [
      "\r",
      "  1%|▏         | 12/902 [00:26<32:29,  2.19s/it]"
     ]
    }
   ],
   "source": [
    "# run yolov3 on the video \n",
    "\n",
    "input_path = 'video/HitachiDemo.mp4'\n",
    " \n",
    "video_out = output_path + input_path.split('/')[-1]\n",
    "video_reader = cv2.VideoCapture(input_path)\n",
    "\n",
    "nb_frames = int(video_reader.get(cv2.CAP_PROP_FRAME_COUNT))\n",
    "frame_h = int(video_reader.get(cv2.CAP_PROP_FRAME_HEIGHT))\n",
    "frame_w = int(video_reader.get(cv2.CAP_PROP_FRAME_WIDTH))\n",
    "\n",
    "video_writer = cv2.VideoWriter(video_out,cv2.VideoWriter_fourcc(*'MP4V'), 25.0,(frame_w, frame_h))\n",
    "\n",
    "# set batch size 2^n\n",
    "batch_size  = 1\n",
    "images      = []\n",
    "start_point = 0 \n",
    "show_window = True\n",
    "keras_time_count = 0\n",
    "\n",
    "for i in tqdm(range(nb_frames)):\n",
    "    _, image = video_reader.read()\n",
    "    image = cv2.cvtColor(image, cv2.COLOR_BGR2RGB)\n",
    "    if (float(i+1)/nb_frames) > start_point/100.:\n",
    "        images += [image]\n",
    "        \n",
    "        if (i%batch_size == 0) or (i == (nb_frames-1) and len(images) > 0):\n",
    "            # predict the bounding boxes\n",
    "            t1 = time.time()\n",
    "            batch_boxes = get_yolo_boxes(infer2_model, images, net_h, net_w, anchor, obj_thresh, nms_thresh)\n",
    "            t2 = time.time()\n",
    "            keras_time_count += (t2-t1)\n",
    "            \n",
    "            for p in range(len(images)):\n",
    "                # draw bounding boxes on the image using labels\n",
    "                draw_boxes(images[p], batch_boxes[p], labels , obj_thresh)   \n",
    "                \n",
    "                clear_output(wait=True)\n",
    "                # show the video with detection bounding boxes   \n",
    "                if show_window: \n",
    "                    frame = cv2.resize(images[p],(640,360))\n",
    "                    showarray(frame)\n",
    "                    \n",
    "                # write result to the output video\n",
    "                images[p] = cv2.cvtColor(images[p], cv2.COLOR_RGB2BGR) # Convert color back\n",
    "                video_writer.write(images[p]) \n",
    "            images = []\n",
    "        \n",
    "video_reader.release()\n",
    "video_writer.release()   \n",
    "print(\"predict time = %f sec\" % (keras_time_count))\n",
    "print(\"Finish render video with prediction\")"
   ]
  },
  {
   "cell_type": "code",
   "execution_count": null,
   "metadata": {},
   "outputs": [],
   "source": []
  }
 ],
 "metadata": {
  "kernelspec": {
   "display_name": "Python 3",
   "language": "python",
   "name": "python3"
  },
  "language_info": {
   "codemirror_mode": {
    "name": "ipython",
    "version": 3
   },
   "file_extension": ".py",
   "mimetype": "text/x-python",
   "name": "python",
   "nbconvert_exporter": "python",
   "pygments_lexer": "ipython3",
   "version": "3.6.5"
  }
 },
 "nbformat": 4,
 "nbformat_minor": 2
}
