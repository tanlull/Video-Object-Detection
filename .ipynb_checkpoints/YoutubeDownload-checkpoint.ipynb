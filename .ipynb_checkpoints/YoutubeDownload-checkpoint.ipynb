{
 "cells": [
  {
   "cell_type": "code",
   "execution_count": 2,
   "metadata": {},
   "outputs": [
    {
     "name": "stdout",
     "output_type": "stream",
     "text": [
      "Collecting pytube\n",
      "  Downloading https://files.pythonhosted.org/packages/ff/4e/a499f2a002c6fa922979441104cca30ac4b5119bd5320292ea0edfeb12d9/pytube-9.2.2.tar.gz\n",
      "Building wheels for collected packages: pytube\n",
      "  Running setup.py bdist_wheel for pytube ... \u001b[?25ldone\n",
      "\u001b[?25h  Stored in directory: /Users/tan/Library/Caches/pip/wheels/27/c4/82/7360a8516386c9877c6a5fd4b17523da7163c53b692bb73ba2\n",
      "Successfully built pytube\n",
      "Installing collected packages: pytube\n",
      "Successfully installed pytube-9.2.2\n"
     ]
    }
   ],
   "source": [
    "!pip3 install pytube"
   ]
  },
  {
   "cell_type": "code",
   "execution_count": 5,
   "metadata": {},
   "outputs": [
    {
     "data": {
      "text/plain": [
       "['hitachiDemo.mp4']"
      ]
     },
     "execution_count": 5,
     "metadata": {},
     "output_type": "execute_result"
    }
   ],
   "source": [
    "output_path='video'\n",
    "\n",
    "from pytube import YouTube\n",
    "YouTube('https://youtu.be/PffoC-ylqKU').streams.first().download(output_path=output_path, filename='hitachiDemo')\n",
    "\n",
    "import os\n",
    "os.listdir(output_path)"
   ]
  },
  {
   "cell_type": "code",
   "execution_count": null,
   "metadata": {},
   "outputs": [],
   "source": []
  }
 ],
 "metadata": {
  "kernelspec": {
   "display_name": "Python 3",
   "language": "python",
   "name": "python3"
  },
  "language_info": {
   "codemirror_mode": {
    "name": "ipython",
    "version": 3
   },
   "file_extension": ".py",
   "mimetype": "text/x-python",
   "name": "python",
   "nbconvert_exporter": "python",
   "pygments_lexer": "ipython3",
   "version": "3.6.5"
  }
 },
 "nbformat": 4,
 "nbformat_minor": 2
}
